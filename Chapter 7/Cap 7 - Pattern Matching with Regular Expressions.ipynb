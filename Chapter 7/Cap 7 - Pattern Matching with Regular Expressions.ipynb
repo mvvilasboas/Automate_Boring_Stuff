{
 "cells": [
  {
   "cell_type": "markdown",
   "metadata": {},
   "source": [
    "## Finding Patterns of Text Without Regular Expressions\n",
    "\n",
    "Say you want to find a phone number in a string. You know the pattern: three area digits, a hyphen, three numbers, a hyphen, and four numbers. An Example: 415-555-4242. Let's create a function that find that on an text:"
   ]
  },
  {
   "cell_type": "code",
   "execution_count": 2,
   "metadata": {},
   "outputs": [
    {
     "name": "stdout",
     "output_type": "stream",
     "text": [
      "415-555-4242 is a phone number:\n",
      "True\n",
      "Moshi moshi is a phone number:\n",
      "False\n"
     ]
    }
   ],
   "source": [
    "def isPhoneNumber(text):\n",
    "    if len(text) != 12:\n",
    "        return False\n",
    "    for i in range(0, 3):\n",
    "        if not text[i].isdecimal():\n",
    "            return False\n",
    "    if text[3] != '-':\n",
    "        return False\n",
    "    for i in range(4, 7):\n",
    "        if not text[i].isdecimal():\n",
    "            return False\n",
    "    if text[7] != '-':\n",
    "        return False\n",
    "    for i in range(8, 12):\n",
    "        if not text[i].isdecimal():\n",
    "            return False\n",
    "    return True\n",
    "\n",
    "print('415-555-4242 is a phone number:')\n",
    "print(isPhoneNumber('415-555-4242'))\n",
    "print('Moshi moshi is a phone number:')\n",
    "print(isPhoneNumber('Moshi moshi'))"
   ]
  },
  {
   "cell_type": "markdown",
   "metadata": {},
   "source": [
    "We can simplify it by chuncking 12 digits and testing the text. Here it is:"
   ]
  },
  {
   "cell_type": "code",
   "execution_count": 3,
   "metadata": {
    "scrolled": true
   },
   "outputs": [
    {
     "name": "stdout",
     "output_type": "stream",
     "text": [
      "Phone number found: 415-555-1011\n",
      "Phone number found: 415-555-9999\n",
      "Done\n"
     ]
    }
   ],
   "source": [
    "message = 'Call me at 415-555-1011 tomorrow. 415-555-9999 is my office.'\n",
    "for i in range(len(message)):\n",
    "    chunk = message[i:i+12]\n",
    "    if isPhoneNumber(chunk):\n",
    "        print('Phone number found: ' + chunk)\n",
    "print('Done')"
   ]
  },
  {
   "cell_type": "markdown",
   "metadata": {},
   "source": [
    "## Using Regular Expressions to Find Patterns\n",
    "\n",
    "Regular expressions - called \"Regex\" for short - are functions that find patterns in the text. For doing so, we need to import the re module."
   ]
  },
  {
   "cell_type": "code",
   "execution_count": 5,
   "metadata": {},
   "outputs": [],
   "source": [
    "import re"
   ]
  },
  {
   "cell_type": "markdown",
   "metadata": {},
   "source": [
    "#### re.compile\n",
    "We can create a pattern that we will use to find on the text with the re.compile expression. For example: `re.compile('Atlas')`. This code pattern the string Atlas, with the first 'A' uppercase. We can store that on an regex object the same way we create other objects.\n",
    "\n",
    "To find the pattern of a phone, we will need to call the common character to the digits, the backslash+d (\\d). So it will be like this example:"
   ]
  },
  {
   "cell_type": "code",
   "execution_count": 6,
   "metadata": {},
   "outputs": [
    {
     "name": "stdout",
     "output_type": "stream",
     "text": [
      "Phone number found: 415-555-4242\n"
     ]
    }
   ],
   "source": [
    "phoneNumRegex = re.compile(r'\\d\\d\\d-\\d\\d\\d-\\d\\d\\d\\d')\n",
    "mo = phoneNumRegex.search('My number is 415-555-4242')\n",
    "print('Phone number found: ' + mo.group())"
   ]
  },
  {
   "cell_type": "markdown",
   "metadata": {},
   "source": [
    "#### Grouping\n",
    "We can also group the parts of a pattern. To do so we use the object.group() to called it, and use parenthesis on the re.compile to group it up. Using the phone number example:"
   ]
  },
  {
   "cell_type": "code",
   "execution_count": 8,
   "metadata": {},
   "outputs": [
    {
     "data": {
      "text/plain": [
       "'415'"
      ]
     },
     "execution_count": 8,
     "metadata": {},
     "output_type": "execute_result"
    }
   ],
   "source": [
    "phoneNumRegex = re.compile(r'(\\d\\d\\d)-(\\d\\d\\d-\\d\\d\\d\\d)')\n",
    "mo = phoneNumRegex.search('My number is 415-555-4242')\n",
    "mo.group(1)"
   ]
  },
  {
   "cell_type": "code",
   "execution_count": 9,
   "metadata": {},
   "outputs": [
    {
     "data": {
      "text/plain": [
       "'555-4242'"
      ]
     },
     "execution_count": 9,
     "metadata": {},
     "output_type": "execute_result"
    }
   ],
   "source": [
    "mo.group(2)"
   ]
  },
  {
   "cell_type": "code",
   "execution_count": 10,
   "metadata": {},
   "outputs": [
    {
     "data": {
      "text/plain": [
       "'415-555-4242'"
      ]
     },
     "execution_count": 10,
     "metadata": {},
     "output_type": "execute_result"
    }
   ],
   "source": [
    "mo.group(0)"
   ]
  },
  {
   "cell_type": "code",
   "execution_count": 11,
   "metadata": {},
   "outputs": [
    {
     "data": {
      "text/plain": [
       "'415-555-4242'"
      ]
     },
     "execution_count": 11,
     "metadata": {},
     "output_type": "execute_result"
    }
   ],
   "source": [
    "mo.group()"
   ]
  },
  {
   "cell_type": "code",
   "execution_count": 12,
   "metadata": {},
   "outputs": [
    {
     "data": {
      "text/plain": [
       "('415', '555-4242')"
      ]
     },
     "execution_count": 12,
     "metadata": {},
     "output_type": "execute_result"
    }
   ],
   "source": [
    "mo.groups()"
   ]
  },
  {
   "cell_type": "code",
   "execution_count": 16,
   "metadata": {},
   "outputs": [
    {
     "name": "stdout",
     "output_type": "stream",
     "text": [
      "415\n",
      "555-4242\n"
     ]
    }
   ],
   "source": [
    "areaCode, mainNumber = mo.groups()\n",
    "print(areaCode)\n",
    "print(mainNumber)"
   ]
  },
  {
   "cell_type": "markdown",
   "metadata": {},
   "source": [
    "So we have that the first group is composed by three digits, the area code (you can see it on re.compile as (\\d\\d\\d), and you can called it by group(1).\n",
    "The second group is the phone number composed by three digits, a hyphen, and four digits (you can see it on re.compile as (\\d\\d\\d-\\d\\d\\d\\d), and you can called it by group(2).\n",
    "There's an hyphen between the group(1) and the group(2) that is groupless.\n",
    "You can call the whole pattern by using either group(0) or group().\n",
    "When you call object.groups() you create a tuple of the patterns find on the text ordered by groups. And you can also assign variables for the groups on the tuple by using the multiple-assignment trick by doing `assign1, assign2 = object.groups()`."
   ]
  },
  {
   "cell_type": "markdown",
   "metadata": {},
   "source": [
    "#### Matching parentheses in text\n",
    "Sometimes you need to match parentheses on the text and you need to put an backslash before the parentheses to indicate that you want to make it a part of the pattern."
   ]
  },
  {
   "cell_type": "code",
   "execution_count": 7,
   "metadata": {},
   "outputs": [
    {
     "name": "stdout",
     "output_type": "stream",
     "text": [
      "(415)\n",
      "555-4242\n"
     ]
    }
   ],
   "source": [
    "phoneNumRegex = re.compile(r'(\\(\\d\\d\\d\\)) (\\d\\d\\d-\\d\\d\\d\\d)')\n",
    "mo = phoneNumRegex.search('My number is (415) 555-4242')\n",
    "print(mo.group(1))\n",
    "print(mo.group(2))"
   ]
  },
  {
   "cell_type": "markdown",
   "metadata": {},
   "source": [
    "#### The Pipe Command\n",
    "The pipe command '|' is used to match the first occurence of the words in the re.compile in a text."
   ]
  },
  {
   "cell_type": "code",
   "execution_count": 22,
   "metadata": {},
   "outputs": [],
   "source": [
    "heroRegex = re.compile(r'Batman|Tina Frey')\n",
    "mo1 = heroRegex.search('Batman and Tina Frey')"
   ]
  },
  {
   "cell_type": "code",
   "execution_count": 23,
   "metadata": {},
   "outputs": [
    {
     "data": {
      "text/plain": [
       "'Batman'"
      ]
     },
     "execution_count": 23,
     "metadata": {},
     "output_type": "execute_result"
    }
   ],
   "source": [
    "mo1.group()"
   ]
  },
  {
   "cell_type": "code",
   "execution_count": 24,
   "metadata": {},
   "outputs": [],
   "source": [
    "mo2 = heroRegex.search('Tina Frey and Batman')"
   ]
  },
  {
   "cell_type": "code",
   "execution_count": 25,
   "metadata": {},
   "outputs": [
    {
     "data": {
      "text/plain": [
       "'Tina Frey'"
      ]
     },
     "execution_count": 25,
     "metadata": {},
     "output_type": "execute_result"
    }
   ],
   "source": [
    "mo2.group()"
   ]
  },
  {
   "cell_type": "code",
   "execution_count": 26,
   "metadata": {},
   "outputs": [
    {
     "data": {
      "text/plain": [
       "'Batmobile'"
      ]
     },
     "execution_count": 26,
     "metadata": {},
     "output_type": "execute_result"
    }
   ],
   "source": [
    "batRegex = re.compile(r'Bat(man|mobile|copter|bat)')\n",
    "mo = batRegex.search('Batmobile lost a wheel')\n",
    "mo.group()"
   ]
  },
  {
   "cell_type": "code",
   "execution_count": 27,
   "metadata": {},
   "outputs": [
    {
     "data": {
      "text/plain": [
       "'mobile'"
      ]
     },
     "execution_count": 27,
     "metadata": {},
     "output_type": "execute_result"
    }
   ],
   "source": [
    "mo.group(1)"
   ]
  },
  {
   "cell_type": "markdown",
   "metadata": {},
   "source": [
    "#### Optional Match (zero or one match)\n",
    "Optional Match can be find by using the question mark '?'"
   ]
  },
  {
   "cell_type": "code",
   "execution_count": 29,
   "metadata": {},
   "outputs": [
    {
     "data": {
      "text/plain": [
       "'Batman'"
      ]
     },
     "execution_count": 29,
     "metadata": {},
     "output_type": "execute_result"
    }
   ],
   "source": [
    "batRegex = re.compile(r'Bat(wo)?man')\n",
    "mo1 = batRegex.search('The Adventures of Batman')\n",
    "mo1.group()"
   ]
  },
  {
   "cell_type": "code",
   "execution_count": 30,
   "metadata": {},
   "outputs": [
    {
     "data": {
      "text/plain": [
       "'Batwoman'"
      ]
     },
     "execution_count": 30,
     "metadata": {},
     "output_type": "execute_result"
    }
   ],
   "source": [
    "mo2 = batRegex.search('The adventures of Batwoman')\n",
    "mo2.group()"
   ]
  },
  {
   "cell_type": "markdown",
   "metadata": {},
   "source": [
    "Using this idea on phone numbers, you can write a code that identifies phones with or without area code."
   ]
  },
  {
   "cell_type": "code",
   "execution_count": 31,
   "metadata": {},
   "outputs": [
    {
     "name": "stdout",
     "output_type": "stream",
     "text": [
      "415-555-4242\n",
      "555-4242\n"
     ]
    }
   ],
   "source": [
    "phoneRegex = re.compile(r'(\\d\\d\\d-)?\\d\\d\\d-\\d\\d\\d\\d')\n",
    "mo1 = phoneRegex.search('My number is 415-555-4242')\n",
    "print(mo1.group())\n",
    "mo2 = phoneRegex.search('My number is 555-4242')\n",
    "print(mo2.group())"
   ]
  },
  {
   "cell_type": "markdown",
   "metadata": {},
   "source": [
    "#### Multiple Matches (zero or more)\n",
    "The question mark ('?') finds none or one match.\n",
    "On other hand, the asterix find zero or more (to infinite) matches."
   ]
  },
  {
   "cell_type": "code",
   "execution_count": 33,
   "metadata": {},
   "outputs": [
    {
     "name": "stdout",
     "output_type": "stream",
     "text": [
      "Batman\n",
      "Batwoman\n",
      "Batwowowoman\n"
     ]
    }
   ],
   "source": [
    "batRegex = re.compile(r'Bat(wo)*man')\n",
    "mo1 = batRegex.search('The Adventures of Batman')\n",
    "print(mo1.group())\n",
    "mo2 = batRegex.search('The Adventures of Batwoman')\n",
    "print(mo2.group())\n",
    "mo3 = batRegex.search('The Adventures of Batwowowoman')\n",
    "print(mo3.group())"
   ]
  },
  {
   "cell_type": "markdown",
   "metadata": {},
   "source": [
    "#### At Least One Match (one or more matches)\n",
    "Now, if you want to have at least one match result you can use the plus mark '+'"
   ]
  },
  {
   "cell_type": "code",
   "execution_count": 35,
   "metadata": {},
   "outputs": [
    {
     "name": "stdout",
     "output_type": "stream",
     "text": [
      "Batwowowoman\n",
      "Batwoman\n",
      "True\n"
     ]
    }
   ],
   "source": [
    "batRegex = re.compile(r'Bat(wo)+man')\n",
    "mo1 = batRegex.search('The Adventures of Batwowowoman')\n",
    "print(mo1.group())\n",
    "mo2 = batRegex.search('The Adventures of Batwoman')\n",
    "print(mo2.group())\n",
    "mo3 = batRegex.search('The Adventures of Batman')\n",
    "print(mo3 == None)"
   ]
  },
  {
   "cell_type": "markdown",
   "metadata": {},
   "source": [
    "#### Matching Specific Repetitions with Curly Brackets\n",
    "You can match specific repetitions with curly brackets, for example:"
   ]
  },
  {
   "cell_type": "code",
   "execution_count": 8,
   "metadata": {},
   "outputs": [
    {
     "name": "stdout",
     "output_type": "stream",
     "text": [
      "HaHaHa\n",
      "True\n"
     ]
    }
   ],
   "source": [
    "haRegex = re.compile(r'(Ha){3}')\n",
    "mo1 = haRegex.search('HaHaHa')\n",
    "print(mo1.group())\n",
    "mo2 = haRegex.search('Hahaha')\n",
    "print(mo2 == None)"
   ]
  },
  {
   "cell_type": "markdown",
   "metadata": {},
   "source": [
    "Also, you can put a range on the repetition."
   ]
  },
  {
   "cell_type": "code",
   "execution_count": 39,
   "metadata": {},
   "outputs": [
    {
     "data": {
      "text/plain": [
       "'HaHaHaHaHa'"
      ]
     },
     "execution_count": 39,
     "metadata": {},
     "output_type": "execute_result"
    }
   ],
   "source": [
    "haRegex = re.compile(r'((Ha){3,5})')\n",
    "mo = haRegex.search('HaHaHaHaHa')\n",
    "mo.group()"
   ]
  },
  {
   "cell_type": "markdown",
   "metadata": {},
   "source": [
    "The curly bracket repetitions could be as follows:\n",
    "\n",
    "1. {n} - repeat n number of times.\n",
    "2. {n,m} - repeat n to m number of times.\n",
    "3. {,m} - repeat 0 to m number of times.\n",
    "4. {n,} - repeat n to infinite number of times.\n",
    "\n",
    "#### Greedy and Nongreedy\n",
    "\n",
    "Python is greedy by nature, in other words it will also give the result of the higher value. On the last example it could give only three or four 'Ha' that it would be in the range, but it gave five instead, that's what we called greedy.\n",
    "To make it nongreedy you could add a question mark after the closing curly bracket."
   ]
  },
  {
   "cell_type": "code",
   "execution_count": 40,
   "metadata": {},
   "outputs": [
    {
     "data": {
      "text/plain": [
       "'HaHaHa'"
      ]
     },
     "execution_count": 40,
     "metadata": {},
     "output_type": "execute_result"
    }
   ],
   "source": [
    "haRegex = re.compile(r'((Ha){3,5}?)')\n",
    "mo = haRegex.search('HaHaHaHaHa')\n",
    "mo.group()"
   ]
  },
  {
   "cell_type": "markdown",
   "metadata": {},
   "source": [
    "#### The findall() method\n",
    "With search() method you will find just the first of the matches, but you can find all of them with findall() method."
   ]
  },
  {
   "cell_type": "code",
   "execution_count": 6,
   "metadata": {},
   "outputs": [
    {
     "data": {
      "text/plain": [
       "['415-555-9999', '212-555-0000']"
      ]
     },
     "execution_count": 6,
     "metadata": {},
     "output_type": "execute_result"
    }
   ],
   "source": [
    "phoneNumRegex = re.compile(r'\\d\\d\\d-\\d\\d\\d-\\d\\d\\d\\d')\n",
    "phoneNumRegex.findall('Cell: 415-555-9999 Work: 212-555-0000')"
   ]
  },
  {
   "cell_type": "markdown",
   "metadata": {},
   "source": [
    "If there are groups on the re.compile, the findall method will return a list of tuples."
   ]
  },
  {
   "cell_type": "code",
   "execution_count": 7,
   "metadata": {},
   "outputs": [
    {
     "data": {
      "text/plain": [
       "[('415', '555', '9999'), ('212', '555', '0000')]"
      ]
     },
     "execution_count": 7,
     "metadata": {},
     "output_type": "execute_result"
    }
   ],
   "source": [
    "phoneNumRegex = re.compile(r'(\\d\\d\\d)-(\\d\\d\\d)-(\\d\\d\\d\\d)')\n",
    "phoneNumRegex.findall('Cell: 415-555-9999 Work: 212-555-0000')"
   ]
  },
  {
   "cell_type": "markdown",
   "metadata": {},
   "source": [
    "### List of a shorthand codes for common character Classes\n",
    "\n",
    "\\d - Any numeric digit from 0 to 9\n",
    "\n",
    "\\D - Any character that is NOT a numeric digit from 0 to 9\n",
    "\\w - Any letter, numeric digit, or the underscore character. (Think of it as matching \"word\" characters.)\n",
    "\n",
    "\\W - Any character that is NOT a letter, numeric digit, or the underscore character.\n",
    "\n",
    "\\s - Any space, tab, or newline character. (Think of it as matching \"spaces\" characters.)\n",
    "\n",
    "\\S - Any character that is NOT a space, tab, or newline.\n",
    "\n",
    "An example:"
   ]
  },
  {
   "cell_type": "code",
   "execution_count": 8,
   "metadata": {},
   "outputs": [
    {
     "data": {
      "text/plain": [
       "['12 drummers',\n",
       " '11 pipers',\n",
       " '10 lords',\n",
       " '9 ladies',\n",
       " '8 maids',\n",
       " '7 swans',\n",
       " '6 geese',\n",
       " '5 rings',\n",
       " '4 birds',\n",
       " '3 hens',\n",
       " '2 doves',\n",
       " '1 partridge']"
      ]
     },
     "execution_count": 8,
     "metadata": {},
     "output_type": "execute_result"
    }
   ],
   "source": [
    "xmasRegex = re.compile(r'\\d+\\s\\w+')\n",
    "xmasRegex.findall('12 drummers, 11 pipers, 10 lords, 9 ladies, 8 maids, 7 swans, 6 geese, 5 rings, 4 birds, 3 hens, 2 doves, 1 partridge')"
   ]
  },
  {
   "cell_type": "markdown",
   "metadata": {},
   "source": [
    "### Making your own character classes\n",
    "\n",
    "You can creat a character class by using square bracket. For example:"
   ]
  },
  {
   "cell_type": "code",
   "execution_count": 9,
   "metadata": {},
   "outputs": [
    {
     "data": {
      "text/plain": [
       "['o', 'o', 'o', 'e', 'a', 'a', 'o', 'o', 'A', 'O', 'O']"
      ]
     },
     "execution_count": 9,
     "metadata": {},
     "output_type": "execute_result"
    }
   ],
   "source": [
    "vowelRegex = re.compile(r'[aeiouAEIOU]')\n",
    "vowelRegex.findall('Robocop eats baby food. BABY FOOD.')"
   ]
  },
  {
   "cell_type": "markdown",
   "metadata": {},
   "source": [
    "You can create a range o characters like [A-Z] or [0-5]. Also, you don't need to use the backslash to validate some special characts like on print() function, for example, if you want to match a backslash on your character class you can just put it inside square brackets.\n",
    "\n",
    "#### Negative Character Class\n",
    "\n",
    "You can also make a negative character classes to match anything but the characters inside the square bracket by adding a caret character (^) just after the opening square bracket. For example:"
   ]
  },
  {
   "cell_type": "code",
   "execution_count": 10,
   "metadata": {},
   "outputs": [
    {
     "data": {
      "text/plain": [
       "['R',\n",
       " 'b',\n",
       " 'c',\n",
       " 'p',\n",
       " ' ',\n",
       " 't',\n",
       " 's',\n",
       " ' ',\n",
       " 'b',\n",
       " 'b',\n",
       " 'y',\n",
       " ' ',\n",
       " 'f',\n",
       " 'd',\n",
       " '.',\n",
       " ' ',\n",
       " 'B',\n",
       " 'B',\n",
       " 'Y',\n",
       " ' ',\n",
       " 'F',\n",
       " 'D',\n",
       " '.']"
      ]
     },
     "execution_count": 10,
     "metadata": {},
     "output_type": "execute_result"
    }
   ],
   "source": [
    "vowelRegex = re.compile(r'[^aeiouAEIOU]')\n",
    "vowelRegex.findall('Robocop eats baby food. BABY FOOD.')"
   ]
  },
  {
   "cell_type": "markdown",
   "metadata": {},
   "source": [
    "#### Stating with and Ending with\n",
    "To find if a text on a string start with some characters you can use the caret character in the begining of the regex. Likewise, you can find if the text end with some characters by putting the dollar at the end of the regex. Example:"
   ]
  },
  {
   "cell_type": "code",
   "execution_count": 15,
   "metadata": {},
   "outputs": [
    {
     "name": "stdout",
     "output_type": "stream",
     "text": [
      "<_sre.SRE_Match object; span=(0, 5), match='Hello'>\n",
      "True\n",
      "<_sre.SRE_Match object; span=(16, 17), match='2'>\n",
      "True\n"
     ]
    }
   ],
   "source": [
    "beginsWithHello = re.compile(r'^Hello')\n",
    "print(beginsWithHello.search('Hello World'))\n",
    "print(beginsWithHello.search('He said hello.') == None)\n",
    "endsWithNumber = re.compile(r'\\d$')\n",
    "print(endsWithNumber.search('Your number is 42'))\n",
    "print(endsWithNumber.search('Your number is 42.') == None)"
   ]
  },
  {
   "cell_type": "markdown",
   "metadata": {},
   "source": [
    "#### The Wildcard Character\n",
    "\n",
    "The dot character in a regular expression is called a wildcard and will match any character that is followed by some characters that are after the dot on Regex. For example."
   ]
  },
  {
   "cell_type": "code",
   "execution_count": 17,
   "metadata": {},
   "outputs": [
    {
     "data": {
      "text/plain": [
       "['cat', 'hat', 'sat', 'lat', 'mat']"
      ]
     },
     "execution_count": 17,
     "metadata": {},
     "output_type": "execute_result"
    }
   ],
   "source": [
    "atRegex = re.compile(r'.at')\n",
    "atRegex.findall('The cat in the hat sat on the flat mat.}')"
   ]
  },
  {
   "cell_type": "markdown",
   "metadata": {},
   "source": [
    "Note that it will only bring the character that are behind the characters that the regex are trying to match, not the word, as you can see on the \"flat\" word."
   ]
  },
  {
   "cell_type": "markdown",
   "metadata": {},
   "source": [
    "#### Finding (Almost) Everything\n",
    "Now, to find everything we have the dot-star Regex, where you find anything but the new line character. Example:"
   ]
  },
  {
   "cell_type": "code",
   "execution_count": 3,
   "metadata": {},
   "outputs": [
    {
     "name": "stdout",
     "output_type": "stream",
     "text": [
      "Al\n",
      "Sweigart\n"
     ]
    }
   ],
   "source": [
    "nameRegex = re.compile(r'First Name: (.*) Last Name: (.*)')\n",
    "mo = nameRegex.search('First Name: Al Last Name: Sweigart')\n",
    "print(mo.group(1))\n",
    "print(mo.group(2))"
   ]
  },
  {
   "cell_type": "markdown",
   "metadata": {},
   "source": [
    "The dot-star is also greedy, so if you want to do it by ungreedy way you have to input a question mark after the dot-star. Example:"
   ]
  },
  {
   "cell_type": "code",
   "execution_count": 4,
   "metadata": {},
   "outputs": [
    {
     "name": "stdout",
     "output_type": "stream",
     "text": [
      "<To serve man>\n",
      "<To serve man> for dinner.>\n"
     ]
    }
   ],
   "source": [
    "nongreedyRegex = re.compile(r'<.*?>')\n",
    "mo = nongreedyRegex.search('<To serve man> for dinner.>')\n",
    "print(mo.group())\n",
    "greedyRegex = re.compile(r'<.*>')\n",
    "mo = greedyRegex.search('<To serve man> for dinner.>')\n",
    "print(mo.group())"
   ]
  },
  {
   "cell_type": "markdown",
   "metadata": {},
   "source": [
    "### The Second Arguments\n",
    "#### .ALLDOT\n",
    "\n",
    "Now, to match everything (including new line character) with dot-star you need a second argument on Regex: the re.ALLDOT. Example:"
   ]
  },
  {
   "cell_type": "code",
   "execution_count": 6,
   "metadata": {},
   "outputs": [
    {
     "name": "stdout",
     "output_type": "stream",
     "text": [
      "Serve the public trust.\n",
      "Serve the public trust.\n",
      "Protect the innocent.\n",
      "Uphold the law.\n"
     ]
    }
   ],
   "source": [
    "noNewlineRegex = re.compile('.*')\n",
    "print(noNewlineRegex.search('Serve the public trust.\\nProtect the innocent.\\nUphold the law.').group())\n",
    "newlineRegex = re.compile('.*', re.DOTALL)\n",
    "print(newlineRegex.search('Serve the public trust.\\nProtect the innocent.\\nUphold the law.').group())"
   ]
  },
  {
   "cell_type": "markdown",
   "metadata": {},
   "source": [
    "#### .IGNORECASE\n",
    "Sometimes you want to match the character not matter if it is upper or lower case, for this we have another argument to do so: the re.IGNORECASE or simply re.I. Example:"
   ]
  },
  {
   "cell_type": "code",
   "execution_count": 8,
   "metadata": {},
   "outputs": [
    {
     "name": "stdout",
     "output_type": "stream",
     "text": [
      "Robocop\n",
      "ROBOCOP\n",
      "robocop\n"
     ]
    }
   ],
   "source": [
    "robocop = re.compile(r'robocop', re.I)\n",
    "print(robocop.search('Robocop is part man, part machine, all cop.').group())\n",
    "print(robocop.search('ROBOCOP protects the innocent.').group())\n",
    "print(robocop.search('Al, why does your programming book talk about robocop so much?').group())"
   ]
  },
  {
   "cell_type": "markdown",
   "metadata": {},
   "source": [
    "#### The submethod\n",
    "\n",
    "If you wanna identify some strings on the text and substitute it by other expressions you can use the sub() method. It has two arguments: the 1st is the replacer, and the second is the replaced. Example:"
   ]
  },
  {
   "cell_type": "code",
   "execution_count": 11,
   "metadata": {},
   "outputs": [
    {
     "data": {
      "text/plain": [
       "'CENSORED gave the secret documents to CENSORED'"
      ]
     },
     "execution_count": 11,
     "metadata": {},
     "output_type": "execute_result"
    }
   ],
   "source": [
    "namesRegex = re.compile(r'Agent \\w+')\n",
    "namesRegex.sub('CENSORED', 'Agent Alice gave the secret documents to Agent Bob')"
   ]
  },
  {
   "cell_type": "markdown",
   "metadata": {},
   "source": [
    "In this example the word after the word 'Agent' is replaced by 'CENSORED'.\n",
    "\n",
    "Sometimes you want that the whole word was removed and some word are censored passing just one word. For doing that you need to use groups and use the \\1, \\2, \\3 to refer to that group. See this example:"
   ]
  },
  {
   "cell_type": "code",
   "execution_count": 12,
   "metadata": {},
   "outputs": [
    {
     "data": {
      "text/plain": [
       "'A**** told C**** that E**** knew B**** was a double agent.'"
      ]
     },
     "execution_count": 12,
     "metadata": {},
     "output_type": "execute_result"
    }
   ],
   "source": [
    "agentNamesRegex = re.compile(r'Agent (\\w)\\w*')\n",
    "agentNamesRegex.sub(r'\\1****', 'Agent Alice told Agent Carol that Agent Eve knew Agent Bob was a double agent.')"
   ]
  },
  {
   "cell_type": "markdown",
   "metadata": {},
   "source": [
    "#### .VERBOSE\n",
    "\n",
    "Sometimes you need to explain inside the re.compile what it's doing, part-by-part, but to add comments inside you need to use another arguement called verbose: re.VERBOSE. Using the phone number example you could do by doing:"
   ]
  },
  {
   "cell_type": "code",
   "execution_count": 16,
   "metadata": {},
   "outputs": [
    {
     "name": "stdout",
     "output_type": "stream",
     "text": [
      "[('415-555-9999', '415', '-', '-', '', ''), ('212-555-0000', '212', '-', '-', '', '')]\n"
     ]
    }
   ],
   "source": [
    "phoneRegex = re.compile(r'''(\n",
    "    (\\d{3}|\\(\\d{3}\\))?            # area code\n",
    "    (\\s|-|\\.)?                    # separator\n",
    "    \\d{3}                         # first 3 digits\n",
    "    (\\s|-|\\.)                     # separator\n",
    "    \\d{4}                         # last 4 digits\n",
    "    (\\s*(ext|x|ext.)\\s*\\d{2,5})?  # extension\n",
    "    )''', re.VERBOSE)\n",
    "print(phoneRegex.findall('Cell: 415-555-9999 Work: 212-555-0000'))"
   ]
  },
  {
   "cell_type": "markdown",
   "metadata": {},
   "source": [
    "Now it's explaing group by group what are this Regex trying to match.\n",
    "\n",
    "#### Facing a problem: Using all three second arguments at the same time!\n",
    "\n",
    "All of the arguments that we use above (DOTALL, IGNORECASE and VERBOSE) are the second argument of the expression, so they cannot be used at the same time. What can we do about that?\n",
    "\n",
    "You can use the pipe character (|) !!!!\n",
    "\n",
    "As doing so you can put this like that:\n",
    "\n",
    "```python\n",
    "re.compile(r'something', re.I | re.DOTALL | re.VERBOSE)\n",
    "```\n",
    "\n",
    "And now you can use it all together!"
   ]
  },
  {
   "cell_type": "markdown",
   "metadata": {},
   "source": [
    "## Project: Phone Number and Email Adress Extractor\n",
    "\n",
    "Your program needs to do the following:\n",
    "1. Get the text off the clipboard\n",
    "2. Find all the phone numbers and email adress in the text\n",
    "3. Paste them on the clipboard\n",
    "\n",
    "Now, thinking on the code, it may logic look like this:\n",
    "1. Use the pyperclip module to copy and paste strings.\n",
    "2. Create two regexes, one for the phone number and another for email adress.\n",
    "3. Find all matches, not just the first match, of both regexes.\n",
    "4. Neatly format the matched strings into a single string to paste.\n",
    "5. Display somekind of message when there's not match.\n",
    "\n",
    "And it would be done.\n",
    "\n",
    "We'll do that in parts.\n",
    "\n",
    "#### 1st - Create the Regex for Phone Numbers\n",
    "\n",
    "First you need to import the modules (you can also put #! python3 before the code for it to work as a program and a comment summarizing the program as well):"
   ]
  },
  {
   "cell_type": "code",
   "execution_count": 1,
   "metadata": {},
   "outputs": [],
   "source": [
    "import re, pyperclip"
   ]
  },
  {
   "cell_type": "markdown",
   "metadata": {},
   "source": [
    "Now, create the Regex for the phone number, using the verbose version that is more explained."
   ]
  },
  {
   "cell_type": "code",
   "execution_count": 2,
   "metadata": {},
   "outputs": [],
   "source": [
    "phoneRegex = re.compile(r'''(\n",
    "    (\\d{3}|\\(\\d{3}\\))?                # area code\n",
    "    (\\s|-|\\.)?                        # separator\n",
    "    (\\d{3})                           # first 3 digits\n",
    "    (\\s|-|\\.)                         # separator\n",
    "    (\\d{4})                           # last 4 digits\n",
    "    (\\s*(ext|x|ext.)\\s*(\\d{2,5}))?    # extension\n",
    "    )''', re.VERBOSE)"
   ]
  },
  {
   "cell_type": "markdown",
   "metadata": {},
   "source": [
    "See that the area code is an optional match, and it has two options: the only three digits `\\d{3}` and the parenthesis with three digits inside `(\\d{3})`\n",
    "\n",
    "Also on the options: you have the separators matching spaces `\\s`, hyphen `-` and period `.`.\n",
    "\n",
    "Another option came on the final optinal part, the expension: its a two to five digits that follows string named ext, x, ext. .\n",
    "\n",
    "Note that all the options are signalized by a pipe character.\n",
    "\n",
    "We've done just half of the second part of coding:\n",
    "> 2. Create two regexes, one for the phone number and another for email adress.\n",
    "\n",
    "Lets finish it.\n",
    "\n",
    "#### 2nd - Create the Regex of Email Adress"
   ]
  },
  {
   "cell_type": "code",
   "execution_count": 3,
   "metadata": {},
   "outputs": [],
   "source": [
    "#create email regex\n",
    "\n",
    "emailRegex = re.compile(r'''(\n",
    "    [a-zA-Z0-9._%+-]+      # username\n",
    "    @                      # @ symbol\n",
    "    [a-zA-Z0-9.-]+         # domain name\n",
    "    (\\.[a-zA-Z]{2,4})      # dot-something\n",
    ")''', re.VERBOSE)"
   ]
  },
  {
   "cell_type": "markdown",
   "metadata": {},
   "source": [
    "Note that won't be a space so that's why every part of the compile has a plus (+) on the end, only the @ doesn't need it because it is not a group. Also, you can see that the '.com' part only allow strings between 2 and 4 characters, beginning with a dot.\n",
    "\n",
    "It will not cover all the emails due to the substantial weird rules on the providers but it will macth almost everything.\n",
    "\n",
    "#### 3rd - Find All Matches in the Clipboard Text\n",
    "\n",
    "Now let's use the findall() function to find all the matches."
   ]
  },
  {
   "cell_type": "code",
   "execution_count": 4,
   "metadata": {},
   "outputs": [],
   "source": [
    "#find matches on the clipboard text\n",
    "\n",
    "text = str(pyperclip.paste())\n",
    "matches = [] #init\n",
    "for groups in phoneRegex.findall(text):\n",
    "    phoneNum = '-'.join([groups[1],groups[3],groups[5]])\n",
    "    if groups[8] != '':\n",
    "        phoneNum += ' x'+groups[8]\n",
    "    matches.append(phoneNum)\n",
    "for groups in emailRegex.findall(text):\n",
    "    matches.append(groups[0])"
   ]
  },
  {
   "cell_type": "markdown",
   "metadata": {},
   "source": [
    "Just recapping that groups[0] matches the entire regular expression.\n",
    "\n",
    "So now it's now taking the matches and storing it, now last do the last part.\n",
    "\n",
    "#### Join the Matches into a String for the Clipboard"
   ]
  },
  {
   "cell_type": "code",
   "execution_count": 5,
   "metadata": {},
   "outputs": [
    {
     "name": "stdout",
     "output_type": "stream",
     "text": [
      "No phone numbers or email addresses found.\n"
     ]
    }
   ],
   "source": [
    "#copy the results for the clipboard\n",
    "\n",
    "if len(matches) > 0:\n",
    "    pyperclip.copy('\\n'.join(matches))\n",
    "    print('Copied to the clipboard:')\n",
    "    print('\\n'.join(matches))\n",
    "else:\n",
    "    print('No phone numbers or email addresses found.')"
   ]
  },
  {
   "cell_type": "markdown",
   "metadata": {},
   "source": [
    "You can find this program on this brench.\n",
    "\n",
    "# Finish"
   ]
  }
 ],
 "metadata": {
  "kernelspec": {
   "display_name": "Python 3",
   "language": "python",
   "name": "python3"
  },
  "language_info": {
   "codemirror_mode": {
    "name": "ipython",
    "version": 3
   },
   "file_extension": ".py",
   "mimetype": "text/x-python",
   "name": "python",
   "nbconvert_exporter": "python",
   "pygments_lexer": "ipython3",
   "version": "3.6.5"
  }
 },
 "nbformat": 4,
 "nbformat_minor": 2
}
