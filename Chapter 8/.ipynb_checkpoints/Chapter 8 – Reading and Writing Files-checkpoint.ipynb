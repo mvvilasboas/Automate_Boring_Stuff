{
 "cells": [
  {
   "cell_type": "markdown",
   "metadata": {},
   "source": [
    "# Chapter 8 – Reading and Writing Files\n",
    "\n",
    "### os.path.join() function\n",
    "\n",
    "To make your program to work on every OS (Windows, Linux and OSX) you need to run some codes before the beginning of the program. That's because the windows syntax for pathing is the backslash folder separator ('\\') and on Linux and OSX it's the forward separator ('/'). But python has a simpler way to do that, see below."
   ]
  },
  {
   "cell_type": "code",
   "execution_count": 2,
   "metadata": {},
   "outputs": [
    {
     "data": {
      "text/plain": [
       "'usr/bin/spam'"
      ]
     },
     "execution_count": 2,
     "metadata": {},
     "output_type": "execute_result"
    }
   ],
   "source": [
    "import os\n",
    "os.path.join('usr', 'bin', 'spam')"
   ]
  },
  {
   "cell_type": "markdown",
   "metadata": {},
   "source": [
    "**Note:** See that the os.path.join() function makes the path on the user OS on the inside arguments in order.\n",
    "\n",
    "**Note2:** We will never import the os module, but you need to import it on every new program.\n",
    "\n",
    "Here's another example with a strings of files and a path."
   ]
  },
  {
   "cell_type": "code",
   "execution_count": 6,
   "metadata": {},
   "outputs": [
    {
     "name": "stdout",
     "output_type": "stream",
     "text": [
      "/usr/vilasboasmv/accounts.txt\n",
      "/usr/vilasboasmv/details.csv\n",
      "/usr/vilasboasmv/invite.docx\n"
     ]
    }
   ],
   "source": [
    "myFiles = ['accounts.txt', 'details.csv', 'invite.docx']\n",
    "for filename in myFiles:\n",
    "    print(os.path.join('/usr/vilasboasmv', filename))"
   ]
  },
  {
   "cell_type": "markdown",
   "metadata": {},
   "source": [
    "### The Current Working Directory\n",
    "\n",
    "You can ask for python what's your working directory and it will output it as a string with the `os.getcwd()`. Another useful function is the `os.chdir()` that can change the directory that you are working on.\n",
    "\n",
    "We wouldn't change the directory of this notebook because it is linked with github and would cause some problems during study."
   ]
  },
  {
   "cell_type": "code",
   "execution_count": 8,
   "metadata": {},
   "outputs": [
    {
     "data": {
      "text/plain": [
       "'/home/vilasboasmv/Automate_Boring_Stuff/Chapter 8'"
      ]
     },
     "execution_count": 8,
     "metadata": {},
     "output_type": "execute_result"
    }
   ],
   "source": [
    "os.getcwd()"
   ]
  },
  {
   "cell_type": "markdown",
   "metadata": {},
   "source": [
    "### Absolute vs. Relative Paths\n",
    "\n",
    "**Absolute path:** always begins with the root folder.\n",
    "\n",
    "**Relative path:** relative to the program's current working directory.\n",
    "\n",
    "We also have the special names for folders like dot (.) and dot-dot (..)\n",
    "\n",
    "**dot:** means \"this folder\".\n",
    "\n",
    "**dot-dot:** means the \"parent folder\".\n",
    "\n",
    "Here's an example:\n",
    "\n",
    "![alt text](https://automatetheboringstuff.com/images/000032.jpg \"dot and dot-dot example\")"
   ]
  },
  {
   "cell_type": "markdown",
   "metadata": {},
   "source": [
    "### Creating New Folders\n",
    "\n",
    "You can create new folders by using the `os.makedirs()` function. For example:\n",
    "\n",
    "```python3\n",
    "import os\n",
    "os.makedirs('/usr/documents/newfolder')\n",
    "```"
   ]
  },
  {
   "cell_type": "markdown",
   "metadata": {},
   "source": [
    "### Handling Absolute and Relative Paths\n",
    "Calling `os.path.abspath(path)` will return a string of the absolute path of the argument. This is an easy way to convert a relative path into an absolute one.\n",
    "\n",
    "Calling `os.path.isabs(path)` will return True if the argument is an absolute path and False if it is a relative path.\n",
    "\n",
    "Calling `os.path.relpath(path, start)` will return a string of a relative path from the start path to path. If start is not provided, the current working directory is used as the start path.\n",
    "\n",
    "Se this examples:"
   ]
  },
  {
   "cell_type": "code",
   "execution_count": 3,
   "metadata": {},
   "outputs": [
    {
     "data": {
      "text/plain": [
       "'/home/vilasboasmv/Automate_Boring_Stuff/Chapter 8'"
      ]
     },
     "execution_count": 3,
     "metadata": {},
     "output_type": "execute_result"
    }
   ],
   "source": [
    "os.path.abspath('.')"
   ]
  },
  {
   "cell_type": "code",
   "execution_count": null,
   "metadata": {
    "collapsed": true
   },
   "outputs": [],
   "source": []
  }
 ],
 "metadata": {
  "kernelspec": {
   "display_name": "Python 3",
   "language": "python",
   "name": "python3"
  },
  "language_info": {
   "codemirror_mode": {
    "name": "ipython",
    "version": 3
   },
   "file_extension": ".py",
   "mimetype": "text/x-python",
   "name": "python",
   "nbconvert_exporter": "python",
   "pygments_lexer": "ipython3",
   "version": "3.6.5"
  }
 },
 "nbformat": 4,
 "nbformat_minor": 2
}
