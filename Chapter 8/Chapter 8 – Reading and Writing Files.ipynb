{
 "cells": [
  {
   "cell_type": "markdown",
   "metadata": {},
   "source": [
    "# Chapter 8 – Reading and Writing Files\n",
    "\n",
    "### os.path.join() function\n",
    "\n",
    "To make your program to work on every OS (Windows, Linux and OSX) you need to run some codes before the beginning of the program. That's because the windows syntax for pathing is the backslash folder separator ('\\') and on Linux and OSX it's the forward separator ('/'). But python has a simpler way to do that, see below."
   ]
  },
  {
   "cell_type": "code",
   "execution_count": 1,
   "metadata": {},
   "outputs": [
    {
     "data": {
      "text/plain": [
       "'usr/bin/spam'"
      ]
     },
     "execution_count": 1,
     "metadata": {},
     "output_type": "execute_result"
    }
   ],
   "source": [
    "import os\n",
    "os.path.join('usr', 'bin', 'spam')"
   ]
  },
  {
   "cell_type": "markdown",
   "metadata": {},
   "source": [
    "**Note:** See that the os.path.join() function makes the path on the user OS on the inside arguments in order.\n",
    "\n",
    "**Note2:** We will never import the os module, but you need to import it on every new program.\n",
    "\n",
    "Here's another example with a strings of files and a path."
   ]
  },
  {
   "cell_type": "code",
   "execution_count": 6,
   "metadata": {},
   "outputs": [
    {
     "name": "stdout",
     "output_type": "stream",
     "text": [
      "/usr/vilasboasmv/accounts.txt\n",
      "/usr/vilasboasmv/details.csv\n",
      "/usr/vilasboasmv/invite.docx\n"
     ]
    }
   ],
   "source": [
    "myFiles = ['accounts.txt', 'details.csv', 'invite.docx']\n",
    "for filename in myFiles:\n",
    "    print(os.path.join('/usr/vilasboasmv', filename))"
   ]
  },
  {
   "cell_type": "markdown",
   "metadata": {},
   "source": [
    "### The Current Working Directory\n",
    "\n",
    "You can ask for python what's your working directory and it will output it as a string with the `os.getcwd()`. Another useful function is the `os.chdir()` that can change the directory that you are working on.\n",
    "\n",
    "We wouldn't change the directory of this notebook because it is linked with github and would cause some problems during study."
   ]
  },
  {
   "cell_type": "code",
   "execution_count": 8,
   "metadata": {},
   "outputs": [
    {
     "data": {
      "text/plain": [
       "'/home/vilasboasmv/Automate_Boring_Stuff/Chapter 8'"
      ]
     },
     "execution_count": 8,
     "metadata": {},
     "output_type": "execute_result"
    }
   ],
   "source": [
    "os.getcwd()"
   ]
  },
  {
   "cell_type": "markdown",
   "metadata": {},
   "source": [
    "### Absolute vs. Relative Paths\n",
    "\n",
    "**Absolute path:** always begins with the root folder.\n",
    "\n",
    "**Relative path:** relative to the program's current working directory.\n",
    "\n",
    "We also have the special names for folders like dot (.) and dot-dot (..)\n",
    "\n",
    "**dot:** means \"this folder\".\n",
    "\n",
    "**dot-dot:** means the \"parent folder\".\n",
    "\n",
    "Here's an example:\n",
    "\n",
    "![alt text](https://automatetheboringstuff.com/images/000032.jpg \"dot and dot-dot example\")"
   ]
  },
  {
   "cell_type": "markdown",
   "metadata": {},
   "source": [
    "### Creating New Folders\n",
    "\n",
    "You can create new folders by using the `os.makedirs()` function. For example:\n",
    "\n",
    "```python3\n",
    "import os\n",
    "os.makedirs('/usr/documents/newfolder')\n",
    "```"
   ]
  },
  {
   "cell_type": "markdown",
   "metadata": {},
   "source": [
    "### Handling Absolute and Relative Paths\n",
    "Calling `os.path.abspath(path)` will return a string of the absolute path of the argument. This is an easy way to convert a relative path into an absolute one.\n",
    "\n",
    "Calling `os.path.isabs(path)` will return True if the argument is an absolute path and False if it is a relative path.\n",
    "\n",
    "Calling `os.path.relpath(path, start)` will return a string of a relative path from the start path to path. If start is not provided, the current working directory is used as the start path.\n",
    "\n",
    "Se this examples:"
   ]
  },
  {
   "cell_type": "code",
   "execution_count": 5,
   "metadata": {},
   "outputs": [
    {
     "name": "stdout",
     "output_type": "stream",
     "text": [
      "/home/vilasboasmv/Automate_Boring_Stuff/Chapter 8\n",
      "/home/vilasboasmv/Automate_Boring_Stuff/Chapter 8/usr\n",
      "False\n",
      "True\n"
     ]
    }
   ],
   "source": [
    "print(os.path.abspath('.'))\n",
    "print(os.path.abspath('./usr'))\n",
    "print(os.path.isabs('.'))\n",
    "print(os.path.isabs(os.path.abspath('.')))"
   ]
  },
  {
   "cell_type": "markdown",
   "metadata": {},
   "source": [
    "Now for `os.path.relpath` the program will find the path from the root ('/') to the current working directory. Note that is the same as the `os.getcwd()` but it doesn't include the root, so the third line is a False assumption."
   ]
  },
  {
   "cell_type": "code",
   "execution_count": 12,
   "metadata": {},
   "outputs": [
    {
     "name": "stdout",
     "output_type": "stream",
     "text": [
      "home/vilasboasmv/Automate_Boring_Stuff/Chapter 8\n",
      "/home/vilasboasmv/Automate_Boring_Stuff/Chapter 8\n",
      "False\n"
     ]
    }
   ],
   "source": [
    "print(os.path.relpath('.', '/'))\n",
    "print(os.getcwd())\n",
    "print(os.path.relpath('.', '/') == os.getcwd())"
   ]
  },
  {
   "cell_type": "markdown",
   "metadata": {},
   "source": [
    "Calling `os.path.dirname(path)` will return a string of everything that comes before the last slash in the path argument. Calling `os.path.basename(path)` will return a string of everything that comes after the last slash in the path argument.\n",
    "\n",
    "See the application of the example from the path and files.\n",
    "\n",
    "> /home/vilasboasmv/downloads/Anaconda3-5.2.0-Linux-x86_64.sh"
   ]
  },
  {
   "cell_type": "code",
   "execution_count": 15,
   "metadata": {},
   "outputs": [
    {
     "name": "stdout",
     "output_type": "stream",
     "text": [
      "Anaconda3-5.2.0-Linux-x86_64.sh\n",
      "/home/vilasboasmv/downloads\n"
     ]
    }
   ],
   "source": [
    "path = '/home/vilasboasmv/downloads/Anaconda3-5.2.0-Linux-x86_64.sh'\n",
    "print(os.path.basename(path))\n",
    "print(os.path.dirname(path))"
   ]
  },
  {
   "cell_type": "markdown",
   "metadata": {},
   "source": [
    "Now if you want to get both on a tuple you can use `os.path.split()` function."
   ]
  },
  {
   "cell_type": "code",
   "execution_count": 16,
   "metadata": {},
   "outputs": [
    {
     "data": {
      "text/plain": [
       "('/home/vilasboasmv/downloads', 'Anaconda3-5.2.0-Linux-x86_64.sh')"
      ]
     },
     "execution_count": 16,
     "metadata": {},
     "output_type": "execute_result"
    }
   ],
   "source": [
    "os.path.split(path)"
   ]
  },
  {
   "cell_type": "markdown",
   "metadata": {},
   "source": [
    "Also, you can use the split to get everything separeted on a tuple with the `os.path.sep` function."
   ]
  },
  {
   "cell_type": "code",
   "execution_count": 17,
   "metadata": {},
   "outputs": [
    {
     "data": {
      "text/plain": [
       "['', 'home', 'vilasboasmv', 'downloads', 'Anaconda3-5.2.0-Linux-x86_64.sh']"
      ]
     },
     "execution_count": 17,
     "metadata": {},
     "output_type": "execute_result"
    }
   ],
   "source": [
    "path.split(os.path.sep)"
   ]
  },
  {
   "cell_type": "markdown",
   "metadata": {},
   "source": [
    "### Finding File Sizes and Folder Contents\n",
    "\n",
    "Calling `os.path.getsize(path)` will return the size in bytes of the file in the path argument. And, calling `os.listdir(path)` will return a list of filename strings for each file in the path argument. (Note that this function is in the os module, not os.path.)"
   ]
  },
  {
   "cell_type": "code",
   "execution_count": 6,
   "metadata": {},
   "outputs": [
    {
     "name": "stdout",
     "output_type": "stream",
     "text": [
      "The size of this directory is: 4096 bytes.\n",
      "['.ipynb_checkpoints', 'Chapter 8 – Reading and Writing Files.ipynb']\n"
     ]
    }
   ],
   "source": [
    "print('The size of this directory is: '+ str(os.path.getsize('.'))+' bytes.')\n",
    "print(os.listdir('.'))"
   ]
  },
  {
   "cell_type": "markdown",
   "metadata": {},
   "source": [
    "You can also sum all the sizes from the files of a directory."
   ]
  },
  {
   "cell_type": "code",
   "execution_count": 7,
   "metadata": {},
   "outputs": [
    {
     "name": "stdout",
     "output_type": "stream",
     "text": [
      "45056\n"
     ]
    }
   ],
   "source": [
    "totalSizes = 0\n",
    "for filename in os.listdir('/home/vilasboasmv/Downloads'):\n",
    "    totalSizes = totalSizes + os.path.getsize(os.path.join('/home/vilasboasmv/Downloads'))\n",
    "print(totalSizes)"
   ]
  },
  {
   "cell_type": "markdown",
   "metadata": {},
   "source": [
    "### Checking Path Validaty\n",
    "\n",
    "Calling `os.path.exists(path)` will return True if the file or folder referred to in the argument exists and will return False if it does not exist.\n",
    "\n",
    "Calling `os.path.isfile(path)` will return True if the path argument exists and if is there a file and will return False otherwise.\n",
    "\n",
    "Calling `os.path.isdir(path)` will return True if the path argument exists and if is there a folder and will return False otherwise.\n",
    "\n",
    "Examples:"
   ]
  },
  {
   "cell_type": "code",
   "execution_count": 11,
   "metadata": {},
   "outputs": [
    {
     "name": "stdout",
     "output_type": "stream",
     "text": [
      "True\n",
      "False\n",
      "False\n",
      "True\n",
      "True\n",
      "False\n"
     ]
    }
   ],
   "source": [
    "print(os.path.exists('/home'))\n",
    "print(os.path.exists('/madeup'))\n",
    "print(os.path.isfile('.'))\n",
    "print(os.path.isfile('/home/vilasboasmv/Downloads/foot.JPG'))\n",
    "print(os.path.isdir('.'))\n",
    "print(os.path.isdir('/home/vilasboasmv/Downloads/foot.JPG'))"
   ]
  },
  {
   "cell_type": "markdown",
   "metadata": {},
   "source": [
    "## The File Reading/Writing Process\n",
    "\n",
    "There are three steps to reading or writing files in Python.\n",
    "\n",
    "1. Call the `open()` function to return a File object.\n",
    "\n",
    "2. Call the `read()` or `write()` method on the File object.\n",
    "\n",
    "3. Close the file by calling the `close()` method on the File object.\n",
    "\n",
    "### Opening files with `open()` Function\n",
    "\n",
    "See the example:"
   ]
  },
  {
   "cell_type": "code",
   "execution_count": 13,
   "metadata": {},
   "outputs": [],
   "source": [
    "helloFile = open('./Hello.txt')"
   ]
  },
  {
   "cell_type": "markdown",
   "metadata": {},
   "source": [
    "When you use this function, the program enter on a only-read mode, in other words python can't write or modify the file with `open()`.\n",
    "\n",
    "### Reading the file content\n",
    "\n",
    "Now you can start reading it with `read()`."
   ]
  },
  {
   "cell_type": "code",
   "execution_count": 14,
   "metadata": {},
   "outputs": [
    {
     "name": "stdout",
     "output_type": "stream",
     "text": [
      "Hello World!\n",
      "\n"
     ]
    }
   ],
   "source": [
    "helloContent = helloFile.read()\n",
    "print(helloContent)"
   ]
  },
  {
   "cell_type": "markdown",
   "metadata": {},
   "source": [
    "Alternatively, you can use the `readlines()` method to get a list of string values from the file, one string for each line of text. See the example."
   ]
  },
  {
   "cell_type": "code",
   "execution_count": 15,
   "metadata": {},
   "outputs": [
    {
     "data": {
      "text/plain": [
       "[\"When, in disgrace with fortune and men's eyes,\\n\",\n",
       " 'I all alone beweep my outcast state,\\n',\n",
       " 'And trouble deaf heaven with my bootless cries,\\n',\n",
       " 'And look upon myself and curse my fate,\\n']"
      ]
     },
     "execution_count": 15,
     "metadata": {},
     "output_type": "execute_result"
    }
   ],
   "source": [
    "sonnetFile = open('sonnet29.txt')\n",
    "sonnetFile.readlines()    "
   ]
  },
  {
   "cell_type": "markdown",
   "metadata": {},
   "source": [
    "This technique makes easier to work with readable files.\n",
    "\n",
    "### Writing to Files\n",
    "\n",
    "When you open a file with the open() function it automatically uses the default of the second argument that is \"only-read\" argument, you can input the second argument of only-read by using the 'r', see the example:\n",
    "\n",
    "```python3\n",
    "open('./example.txt', 'r')\n",
    "```\n",
    "\n",
    "To write files you need to open it by allowing it to write the file that you are opening. Using the second argument as 'w'. Using the second argument as write mode it will overwrite everything that is on the file. To maintain the data that is on the file you can use the append mode, by passing the 'a' as the second argument, by this way it will add what you want to the end of the file.\n",
    "\n",
    "If the filename doesn't exist when you pass the open() statement it will create a file if you use the write or append as the second argument.\n",
    "\n",
    "After reading a file, you can close it by using `close()` statement."
   ]
  },
  {
   "cell_type": "code",
   "execution_count": 2,
   "metadata": {},
   "outputs": [
    {
     "data": {
      "text/plain": [
       "13"
      ]
     },
     "execution_count": 2,
     "metadata": {},
     "output_type": "execute_result"
    }
   ],
   "source": [
    "baconFile = open('bacon.txt', 'w')\n",
    "baconFile.write('Hello World!\\n')"
   ]
  },
  {
   "cell_type": "code",
   "execution_count": 3,
   "metadata": {},
   "outputs": [
    {
     "data": {
      "text/plain": [
       "27"
      ]
     },
     "execution_count": 3,
     "metadata": {},
     "output_type": "execute_result"
    }
   ],
   "source": [
    "baconFile.close()\n",
    "baconFile = open('bacon.txt', 'a')\n",
    "baconFile.write('Bacon is a not a vegetable.')"
   ]
  },
  {
   "cell_type": "code",
   "execution_count": 4,
   "metadata": {},
   "outputs": [
    {
     "name": "stdout",
     "output_type": "stream",
     "text": [
      "Hello World!\n",
      "Bacon is a not a vegetable.\n"
     ]
    }
   ],
   "source": [
    "baconFile.close()\n",
    "baconFile = open('bacon.txt')\n",
    "content = baconFile.read()\n",
    "baconFile.close()\n",
    "print(content)"
   ]
  },
  {
   "cell_type": "markdown",
   "metadata": {},
   "source": [
    "### Saving Variables with the shelve Module\n",
    "\n",
    "You can save data and re-open it with the shelve module. See the example:"
   ]
  },
  {
   "cell_type": "code",
   "execution_count": 5,
   "metadata": {},
   "outputs": [],
   "source": [
    "import shelve\n",
    "shelfFile = shelve.open('mydata')\n",
    "cats = ['Zophie', 'Pooka', 'Simon']\n",
    "shelfFile['cats'] = cats\n",
    "shelfFile.close()"
   ]
  },
  {
   "cell_type": "code",
   "execution_count": null,
   "metadata": {},
   "outputs": [],
   "source": []
  }
 ],
 "metadata": {
  "kernelspec": {
   "display_name": "Python 3",
   "language": "python",
   "name": "python3"
  },
  "language_info": {
   "codemirror_mode": {
    "name": "ipython",
    "version": 3
   },
   "file_extension": ".py",
   "mimetype": "text/x-python",
   "name": "python",
   "nbconvert_exporter": "python",
   "pygments_lexer": "ipython3",
   "version": "3.6.5"
  }
 },
 "nbformat": 4,
 "nbformat_minor": 2
}
